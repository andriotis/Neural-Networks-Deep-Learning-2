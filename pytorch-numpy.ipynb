{
 "cells": [
  {
   "cell_type": "markdown",
   "id": "b10a554a",
   "metadata": {},
   "source": [
    "# Pytorch's ANN and CNN, and a from scratch implementation using the MNIST dataset\n",
    "## Andriotis Nikolaos"
   ]
  },
  {
   "cell_type": "markdown",
   "id": "bc9c8090",
   "metadata": {},
   "source": [
    "The assignment is divided into 2 parts. The first part is me trying to learn Pytorch's framework to create 2 implementations to solve the MNIST dataset. The first implementation is an ANN and the second one is a CNN. The second part is me trying to delve deeper into the algorithms and create a network using only numpy."
   ]
  },
  {
   "cell_type": "markdown",
   "id": "991a6509",
   "metadata": {},
   "source": [
    "## Pytorch's ANN Part"
   ]
  },
  {
   "cell_type": "code",
   "execution_count": 632,
   "id": "087ed66d",
   "metadata": {},
   "outputs": [],
   "source": [
    "import torch # since we are going to be using the framework\n",
    "import torch.nn as nn # to access the nn.Module class\n",
    "import torch.nn.functional as F # for relu\n",
    "from torch.utils.data import DataLoader # lets us load data in batches\n",
    "from torchvision import datasets, transforms # to split and change the data downloaded\n",
    "import matplotlib.pyplot as plt\n",
    "import time"
   ]
  },
  {
   "cell_type": "markdown",
   "id": "cf8ce520",
   "metadata": {},
   "source": [
    "### Load the MNIST dataset\n",
    "This is done through torchvision. Torchvision will download a copy locally to your computer. Before actually downloading the dataset we have to make sure that the information is converted to tensors since Pytorch uses tensors. This is done using the last import!"
   ]
  },
  {
   "cell_type": "code",
   "execution_count": 633,
   "id": "e1b94cb9",
   "metadata": {},
   "outputs": [],
   "source": [
    "transform = transforms.ToTensor()\n",
    "train_data = datasets.MNIST(root='./Data', train=True, download=True, transform=transform)\n",
    "test_data = datasets.MNIST(root='./Data', train=False, download=True, transform=transform)\n",
    "# The only difference between those statements are the argument \"train\""
   ]
  },
  {
   "cell_type": "markdown",
   "id": "35f7d564",
   "metadata": {},
   "source": [
    "Let's see what we got."
   ]
  },
  {
   "cell_type": "code",
   "execution_count": 634,
   "id": "5adb7016",
   "metadata": {},
   "outputs": [
    {
     "data": {
      "text/plain": [
       "(Dataset MNIST\n",
       "     Number of datapoints: 60000\n",
       "     Root location: ./Data\n",
       "     Split: Train\n",
       "     StandardTransform\n",
       " Transform: ToTensor(),\n",
       " torchvision.datasets.mnist.MNIST)"
      ]
     },
     "execution_count": 634,
     "metadata": {},
     "output_type": "execute_result"
    }
   ],
   "source": [
    "train_data, type(train_data)"
   ]
  },
  {
   "cell_type": "code",
   "execution_count": 635,
   "id": "8a02bd91",
   "metadata": {},
   "outputs": [
    {
     "data": {
      "text/plain": [
       "(Dataset MNIST\n",
       "     Number of datapoints: 10000\n",
       "     Root location: ./Data\n",
       "     Split: Test\n",
       "     StandardTransform\n",
       " Transform: ToTensor(),\n",
       " torchvision.datasets.mnist.MNIST)"
      ]
     },
     "execution_count": 635,
     "metadata": {},
     "output_type": "execute_result"
    }
   ],
   "source": [
    "test_data, type(test_data)"
   ]
  },
  {
   "cell_type": "markdown",
   "id": "ea8f2c07",
   "metadata": {},
   "source": [
    "Calling the first record from train_data returns a tuple containing the pixel information (28x28 tensor) and the label (int). Same goes for the test_data."
   ]
  },
  {
   "cell_type": "code",
   "execution_count": 636,
   "id": "72b8fd0c",
   "metadata": {},
   "outputs": [
    {
     "name": "stdout",
     "output_type": "stream",
     "text": [
      "Shape: torch.Size([1, 28, 28]) \n",
      "Label: 5\n"
     ]
    }
   ],
   "source": [
    "image, label = train_data[0]\n",
    "print('Shape:', image.shape, '\\nLabel:', label)"
   ]
  },
  {
   "cell_type": "markdown",
   "id": "db17af53",
   "metadata": {},
   "source": [
    "And the actual image"
   ]
  },
  {
   "cell_type": "code",
   "execution_count": 637,
   "id": "83191f8e",
   "metadata": {},
   "outputs": [
    {
     "data": {
      "text/plain": [
       "<matplotlib.image.AxesImage at 0x7f2c5c6a2730>"
      ]
     },
     "execution_count": 637,
     "metadata": {},
     "output_type": "execute_result"
    },
    {
     "data": {
      "image/png": "[encoded data removed]",
      "text/plain": [
       "<Figure size 432x288 with 1 Axes>"
      ]
     },
     "metadata": {
      "needs_background": "light"
     },
     "output_type": "display_data"
    }
   ],
   "source": [
    "plt.imshow(image.reshape(28,28))"
   ]
  },
  {
   "cell_type": "markdown",
   "id": "cdfee04a",
   "metadata": {},
   "source": [
    "### Load it into batches"
   ]
  },
  {
   "cell_type": "markdown",
   "id": "af8f095e",
   "metadata": {},
   "source": [
    "For this, I am going to be using DataLoader (4th import). My training set contains 60,000 records. If for every record I update all the thousands of parameters (I will actually see how many there are), it is going to take a lot of time. Thus, I split it into batches of 100 for the training set and batches of 500 for the test test."
   ]
  },
  {
   "cell_type": "code",
   "execution_count": 638,
   "id": "5d455c9e",
   "metadata": {},
   "outputs": [],
   "source": [
    "torch.manual_seed(42)\n",
    "\n",
    "train_loader = DataLoader(train_data, batch_size=100, shuffle=True)\n",
    "\n",
    "test_loader = DataLoader(test_data, batch_size=500, shuffle=False)"
   ]
  },
  {
   "cell_type": "markdown",
   "id": "6ec83944",
   "metadata": {},
   "source": [
    "I have to flatten them. I will use .view()"
   ]
  },
  {
   "cell_type": "code",
   "execution_count": 639,
   "id": "b7ae48b3",
   "metadata": {},
   "outputs": [
    {
     "name": "stdout",
     "output_type": "stream",
     "text": [
      "Batch shape: torch.Size([100, 1, 28, 28])\n"
     ]
    }
   ],
   "source": [
    "for images, labels in train_loader:\n",
    "    print('Batch shape:', images.size())\n",
    "    break"
   ]
  },
  {
   "cell_type": "markdown",
   "id": "a6e5f693",
   "metadata": {},
   "source": [
    "### Model Definition"
   ]
  },
  {
   "cell_type": "markdown",
   "id": "27d1b6e3",
   "metadata": {},
   "source": [
    "Since I will be varying the neurons, it makes sence to define the model more generally."
   ]
  },
  {
   "cell_type": "code",
   "execution_count": 640,
   "id": "f364e580",
   "metadata": {},
   "outputs": [],
   "source": [
    "class ANN(nn.Module):\n",
    "    \n",
    "    def __init__(self, hidden_sizes):\n",
    "        \n",
    "        super().__init__()\n",
    "        \n",
    "        n_in = 784\n",
    "        n_out = 10\n",
    "        \n",
    "        layerlist = []\n",
    "        for i in hidden_sizes:\n",
    "            \n",
    "            layerlist.append(nn.Linear(n_in, i))\n",
    "            layerlist.append(nn.ReLU(inplace=True))\n",
    "            n_in = i\n",
    "            \n",
    "        layerlist.append(nn.Linear(hidden_sizes[-1], n_out))\n",
    "        \n",
    "        self.layers = nn.Sequential(*layerlist)\n",
    "    \n",
    "    def forward(self, x):\n",
    "        x = self.layers(x)\n",
    "        return x"
   ]
  },
  {
   "cell_type": "code",
   "execution_count": 641,
   "id": "bba1d20d",
   "metadata": {},
   "outputs": [
    {
     "data": {
      "text/plain": [
       "ANN(\n",
       "  (layers): Sequential(\n",
       "    (0): Linear(in_features=784, out_features=120, bias=True)\n",
       "    (1): ReLU(inplace=True)\n",
       "    (2): Linear(in_features=120, out_features=84, bias=True)\n",
       "    (3): ReLU(inplace=True)\n",
       "    (4): Linear(in_features=84, out_features=10, bias=True)\n",
       "  )\n",
       ")"
      ]
     },
     "execution_count": 641,
     "metadata": {},
     "output_type": "execute_result"
    }
   ],
   "source": [
    "torch.manual_seed(42)\n",
    "ann = ANN([120,84]) # e.g\n",
    "ann"
   ]
  },
  {
   "cell_type": "markdown",
   "id": "55cd17ec",
   "metadata": {},
   "source": [
    "We can see that with a hidden layer consisting of 120 neurons and 84 neurons, the number of parameters is very large. This is one of the motivations for moving to CNN."
   ]
  },
  {
   "cell_type": "code",
   "execution_count": 642,
   "id": "42fb2f31",
   "metadata": {},
   "outputs": [
    {
     "data": {
      "text/plain": [
       "105214"
      ]
     },
     "execution_count": 642,
     "metadata": {},
     "output_type": "execute_result"
    }
   ],
   "source": [
    "sum = 0\n",
    "for param in ann.parameters():\n",
    "    sum += param.numel()\n",
    "sum"
   ]
  },
  {
   "cell_type": "markdown",
   "id": "7e2bbea4",
   "metadata": {},
   "source": [
    "### Define Process, Loss function & optimizer\n",
    "I will use CrossEntropyLoss() to see differences since I will be using MSE for the other implementations. Adam is a no-brainer."
   ]
  },
  {
   "cell_type": "code",
   "execution_count": 643,
   "id": "72214fb8",
   "metadata": {},
   "outputs": [],
   "source": [
    "accuracy1 = []\n",
    "\n",
    "def experiment_ann(ann, epochs, lr):\n",
    "    \n",
    "    import time\n",
    "    start_time = time.time()\n",
    "    \n",
    "    criterion = nn.CrossEntropyLoss()\n",
    "    optimizer = torch.optim.Adam(ann.parameters(), lr=lr)\n",
    "    \n",
    "    train_losses = []\n",
    "    test_losses = []\n",
    "    train_correct = []\n",
    "    test_correct = []\n",
    "\n",
    "\n",
    "    for i in range(epochs):\n",
    "        trn_corr = 0 # measures how many were correct per epoch from the training examples\n",
    "        \n",
    "    \n",
    "        # For each train batch\n",
    "        # X_train has 100 images\n",
    "        # y_train has 100 labels\n",
    "        for b, (X_train, y_train) in enumerate(train_loader):\n",
    "            b += 1\n",
    "        \n",
    "            # Apply the model\n",
    "            y_pred = ann(X_train.view(100,-1))\n",
    "            loss = criterion(y_pred, y_train)\n",
    "        \n",
    "            # How many did we got correct?\n",
    "            # y_pred is 100x10 so for each image it has 10 percentages\n",
    "            # torch.max returns the maximum values and indices for each row\n",
    "            predicted = torch.max(y_pred, 1)[1]\n",
    "        \n",
    "            trn_corr += (predicted == y_train).sum() # total correct for the epoch\n",
    "        \n",
    "            optimizer.zero_grad() # set the gradients to zero before starting backprop\n",
    "            loss.backward() # apply backprop\n",
    "            optimizer.step() # update weights and biases by taking a step\n",
    "    \n",
    "            if b%200 == 0:\n",
    "                print(f'epoch: {i:2} | train_batch: {b:4} [{100*b:6}/60000] | train_loss: {loss.item():10.8f} | train_accuracy: {trn_corr.item()*100/(100*b):7.3f}%')\n",
    "\n",
    "        \n",
    "        train_losses.append(loss) # loss per epoch\n",
    "        train_correct.append(trn_corr) # num of correct per epoch\n",
    "        \n",
    "        tst_corr = 0 # measures how many were correct per epoch from the test examples\n",
    "        \n",
    "        # Lets test our progress\n",
    "        with torch.no_grad():\n",
    "            for b, (X_test, y_test) in enumerate(test_loader):\n",
    "                b += 1\n",
    "                y_val = ann(X_test.view(500, -1))\n",
    "\n",
    "                predicted = torch.max(y_val.data, 1)[1]\n",
    "                tst_corr += (predicted == y_test).sum()\n",
    "                \n",
    "                if b%5 == 0:\n",
    "                    accuracy1.append(tst_corr.item()*100/(500*b))\n",
    "                    print(f'epoch: {i:2} | test_batch: {b:4} [{500*b:6}/10000] | test_loss: {loss.item():10.8f} | test_accuracy: {accuracy1[-1]:7.3f}%')\n",
    "            \n",
    "            loss = criterion(y_val, y_test)\n",
    "            test_losses.append(loss)\n",
    "            test_correct.append(tst_corr)\n",
    "\n",
    "    print(f'\\nDuration: {time.time() - start_time:.0f} seconds') # print the time elapsed"
   ]
  },
  {
   "cell_type": "code",
   "execution_count": 644,
   "id": "2a99f32d",
   "metadata": {},
   "outputs": [
    {
     "name": "stdout",
     "output_type": "stream",
     "text": [
      "epoch:  0 | train_batch:  200 [ 20000/60000] | train_loss: 0.35620013 | train_accuracy:  82.365%\n",
      "epoch:  0 | train_batch:  400 [ 40000/60000] | train_loss: 0.30093771 | train_accuracy:  87.037%\n",
      "epoch:  0 | train_batch:  600 [ 60000/60000] | train_loss: 0.12693369 | train_accuracy:  89.237%\n",
      "epoch:  0 | test_batch:    5 [  2500/10000] | test_loss: 0.12693369 | test_accuracy:  93.280%\n",
      "epoch:  0 | test_batch:   10 [  5000/10000] | test_loss: 0.12693369 | test_accuracy:  93.420%\n",
      "epoch:  0 | test_batch:   15 [  7500/10000] | test_loss: 0.12693369 | test_accuracy:  94.533%\n",
      "epoch:  0 | test_batch:   20 [ 10000/10000] | test_loss: 0.12693369 | test_accuracy:  94.930%\n",
      "epoch:  1 | train_batch:  200 [ 20000/60000] | train_loss: 0.12907292 | train_accuracy:  95.010%\n",
      "epoch:  1 | train_batch:  400 [ 40000/60000] | train_loss: 0.11190335 | train_accuracy:  95.155%\n",
      "epoch:  1 | train_batch:  600 [ 60000/60000] | train_loss: 0.10510424 | train_accuracy:  95.372%\n",
      "epoch:  1 | test_batch:    5 [  2500/10000] | test_loss: 0.10510424 | test_accuracy:  94.640%\n",
      "epoch:  1 | test_batch:   10 [  5000/10000] | test_loss: 0.10510424 | test_accuracy:  95.000%\n",
      "epoch:  1 | test_batch:   15 [  7500/10000] | test_loss: 0.10510424 | test_accuracy:  95.853%\n",
      "epoch:  1 | test_batch:   20 [ 10000/10000] | test_loss: 0.10510424 | test_accuracy:  96.280%\n",
      "epoch:  2 | train_batch:  200 [ 20000/60000] | train_loss: 0.11443895 | train_accuracy:  96.550%\n",
      "epoch:  2 | train_batch:  400 [ 40000/60000] | train_loss: 0.14312010 | train_accuracy:  96.698%\n",
      "epoch:  2 | train_batch:  600 [ 60000/60000] | train_loss: 0.10542870 | train_accuracy:  96.733%\n",
      "epoch:  2 | test_batch:    5 [  2500/10000] | test_loss: 0.10542870 | test_accuracy:  95.760%\n",
      "epoch:  2 | test_batch:   10 [  5000/10000] | test_loss: 0.10542870 | test_accuracy:  96.000%\n",
      "epoch:  2 | test_batch:   15 [  7500/10000] | test_loss: 0.10542870 | test_accuracy:  96.733%\n",
      "epoch:  2 | test_batch:   20 [ 10000/10000] | test_loss: 0.10542870 | test_accuracy:  97.050%\n",
      "epoch:  3 | train_batch:  200 [ 20000/60000] | train_loss: 0.08675224 | train_accuracy:  97.670%\n",
      "epoch:  3 | train_batch:  400 [ 40000/60000] | train_loss: 0.06227652 | train_accuracy:  97.560%\n",
      "epoch:  3 | train_batch:  600 [ 60000/60000] | train_loss: 0.04064646 | train_accuracy:  97.482%\n",
      "epoch:  3 | test_batch:    5 [  2500/10000] | test_loss: 0.04064646 | test_accuracy:  96.240%\n",
      "epoch:  3 | test_batch:   10 [  5000/10000] | test_loss: 0.04064646 | test_accuracy:  96.240%\n",
      "epoch:  3 | test_batch:   15 [  7500/10000] | test_loss: 0.04064646 | test_accuracy:  96.920%\n",
      "epoch:  3 | test_batch:   20 [ 10000/10000] | test_loss: 0.04064646 | test_accuracy:  97.180%\n",
      "epoch:  4 | train_batch:  200 [ 20000/60000] | train_loss: 0.04948673 | train_accuracy:  97.845%\n",
      "epoch:  4 | train_batch:  400 [ 40000/60000] | train_loss: 0.02561842 | train_accuracy:  97.955%\n",
      "epoch:  4 | train_batch:  600 [ 60000/60000] | train_loss: 0.05830274 | train_accuracy:  98.010%\n",
      "epoch:  4 | test_batch:    5 [  2500/10000] | test_loss: 0.05830274 | test_accuracy:  95.960%\n",
      "epoch:  4 | test_batch:   10 [  5000/10000] | test_loss: 0.05830274 | test_accuracy:  96.400%\n",
      "epoch:  4 | test_batch:   15 [  7500/10000] | test_loss: 0.05830274 | test_accuracy:  97.000%\n",
      "epoch:  4 | test_batch:   20 [ 10000/10000] | test_loss: 0.05830274 | test_accuracy:  97.360%\n",
      "\n",
      "Duration: 55 seconds\n"
     ]
    }
   ],
   "source": [
    "torch.manual_seed(42)\n",
    "ann = ANN([120,84])\n",
    "experiment_ann(ann, 5, 0.001)"
   ]
  },
  {
   "cell_type": "code",
   "execution_count": 645,
   "id": "92a32d63",
   "metadata": {},
   "outputs": [
    {
     "data": {
      "text/plain": [
       "[<matplotlib.lines.Line2D at 0x7f2c5c468400>]"
      ]
     },
     "execution_count": 645,
     "metadata": {},
     "output_type": "execute_result"
    },
    {
     "data": {
      "image/png": "[encoded data removed]",
      "text/plain": [
       "<Figure size 432x288 with 1 Axes>"
      ]
     },
     "metadata": {
      "needs_background": "light"
     },
     "output_type": "display_data"
    }
   ],
   "source": [
    "plt.plot(accuracy1, label='Accuracy')"
   ]
  },
  {
   "cell_type": "markdown",
   "id": "fceee529",
   "metadata": {},
   "source": [
    "## Pytorch's CNN Part"
   ]
  },
  {
   "cell_type": "markdown",
   "id": "57e95989",
   "metadata": {},
   "source": [
    "Since I have already downloaded the train and test data we don't need to do it again."
   ]
  },
  {
   "cell_type": "code",
   "execution_count": 646,
   "id": "8184a3f9",
   "metadata": {},
   "outputs": [
    {
     "data": {
      "text/plain": [
       "Dataset MNIST\n",
       "    Number of datapoints: 60000\n",
       "    Root location: ./Data\n",
       "    Split: Train\n",
       "    StandardTransform\n",
       "Transform: ToTensor()"
      ]
     },
     "execution_count": 646,
     "metadata": {},
     "output_type": "execute_result"
    }
   ],
   "source": [
    "train_data"
   ]
  },
  {
   "cell_type": "code",
   "execution_count": 647,
   "id": "9d1039d9",
   "metadata": {},
   "outputs": [
    {
     "data": {
      "text/plain": [
       "Dataset MNIST\n",
       "    Number of datapoints: 10000\n",
       "    Root location: ./Data\n",
       "    Split: Test\n",
       "    StandardTransform\n",
       "Transform: ToTensor()"
      ]
     },
     "execution_count": 647,
     "metadata": {},
     "output_type": "execute_result"
    }
   ],
   "source": [
    "test_data"
   ]
  },
  {
   "cell_type": "markdown",
   "id": "f02ac321",
   "metadata": {},
   "source": [
    "Because I am working with 2D images, the batch size will be greatly smaller"
   ]
  },
  {
   "cell_type": "code",
   "execution_count": 648,
   "id": "555cb446",
   "metadata": {},
   "outputs": [],
   "source": [
    "train_loader = DataLoader(train_data, batch_size=10, shuffle=True)\n",
    "test_loader = DataLoader(test_data, batch_size=10, shuffle=False)"
   ]
  },
  {
   "cell_type": "markdown",
   "id": "eaff46be",
   "metadata": {},
   "source": [
    "### Model Definition"
   ]
  },
  {
   "cell_type": "markdown",
   "id": "4e6d3c60",
   "metadata": {},
   "source": [
    "#### First Convolutional Layer\n",
    "\n",
    "1 input channel (One 2D image) --> 6 output channels (for feature extraction)\n",
    "\n",
    "#### Second Convolutional Layer\n",
    "\n",
    "6 input channel (One 2D image) --> 16 output channels (for feature extraction)\n",
    "\n",
    "#### Three Linear Layers\n",
    "\n",
    "* fc1 : 400 --> 120\n",
    "* fc2 : 120 --> 84\n",
    "* fc1 : 84 --> 10"
   ]
  },
  {
   "cell_type": "code",
   "execution_count": 649,
   "id": "4e4eb1f8",
   "metadata": {},
   "outputs": [],
   "source": [
    "class CNN(nn.Module):\n",
    "    \n",
    "    def __init__(self):\n",
    "        \n",
    "        super().__init__()\n",
    "        \n",
    "        self.conv1 = nn.Conv2d(1, 6, 3, 1)\n",
    "        self.conv2 = nn.Conv2d(6, 16, 3, 1)\n",
    "        \n",
    "        self.fc1 = nn.Linear(5*5*16, 120)\n",
    "        self.fc2 = nn.Linear(120, 84)\n",
    "        self.fc3 = nn.Linear(84, 10)\n",
    "    \n",
    "    def forward(self, X):\n",
    "        \n",
    "        # From 28x28, due to the 3x3 kernel, it turns into 26x26\n",
    "        X = F.relu(self.conv1(X))\n",
    "        # From 26x26, due to max_pool, it turns into 13x13\n",
    "        X = F.max_pool2d(X, 2, 2)\n",
    "        \n",
    "        # From 13x13, due to the 3x3 kernel, it turns into 11x11\n",
    "        X = F.relu(self.conv2(X))\n",
    "        # From 11x11, due to max_pool, it turns into 5x5\n",
    "        X = F.max_pool2d(X, 2, 2)\n",
    "\n",
    "        # 16 features X 5x5 images\n",
    "        X = X.view(-1, 16*5*5)\n",
    "\n",
    "        X = F.relu(self.fc1(X))\n",
    "        X = F.relu(self.fc2(X))\n",
    "        \n",
    "        X = self.fc3(X)\n",
    "        \n",
    "        return F.log_softmax(X, dim=1)"
   ]
  },
  {
   "cell_type": "code",
   "execution_count": 650,
   "id": "eae9c60c",
   "metadata": {},
   "outputs": [
    {
     "data": {
      "text/plain": [
       "CNN(\n",
       "  (conv1): Conv2d(1, 6, kernel_size=(3, 3), stride=(1, 1))\n",
       "  (conv2): Conv2d(6, 16, kernel_size=(3, 3), stride=(1, 1))\n",
       "  (fc1): Linear(in_features=400, out_features=120, bias=True)\n",
       "  (fc2): Linear(in_features=120, out_features=84, bias=True)\n",
       "  (fc3): Linear(in_features=84, out_features=10, bias=True)\n",
       ")"
      ]
     },
     "execution_count": 650,
     "metadata": {},
     "output_type": "execute_result"
    }
   ],
   "source": [
    "torch.manual_seed(42)\n",
    "cnn = CNN()\n",
    "cnn"
   ]
  },
  {
   "cell_type": "code",
   "execution_count": 651,
   "id": "b0e0c345",
   "metadata": {},
   "outputs": [],
   "source": [
    "accuracy2 = []\n",
    "\n",
    "def experiment_cnn(cnn, epochs, lr):\n",
    "    \n",
    "    import time\n",
    "    start_time = time.time()\n",
    "    \n",
    "    criterion = nn.CrossEntropyLoss()\n",
    "    optimizer = torch.optim.Adam(cnn.parameters(), lr=lr)\n",
    "\n",
    "    train_losses = []\n",
    "    test_losses = []\n",
    "    train_correct = []\n",
    "    test_correct = []\n",
    "\n",
    "    for i in range(epochs):\n",
    "        trn_corr = 0\n",
    "        tst_corr = 0\n",
    "    \n",
    "        for b, (X_train, y_train) in enumerate(train_loader):\n",
    "            b += 1\n",
    "            \n",
    "            y_pred = cnn(X_train)\n",
    "            loss = criterion(y_pred, y_train)\n",
    "            \n",
    "            predicted = torch.max(y_pred.data, 1)[1]\n",
    "            batch_corr = (predicted == y_train).sum()\n",
    "            trn_corr += batch_corr\n",
    "        \n",
    "            optimizer.zero_grad()\n",
    "            loss.backward()\n",
    "            optimizer.step()\n",
    "            \n",
    "            if b%1200 == 0:\n",
    "                print(f'epoch: {i:2} | train_batch: {b:4} [{10*b:6}/60000] | train_loss: {loss.item():10.8f} | train_accuracy: {trn_corr.item()*100/(10*b):7.3f}%')\n",
    "\n",
    "        \n",
    "        train_losses.append(loss)\n",
    "        train_correct.append(trn_corr)\n",
    "        \n",
    "        with torch.no_grad():\n",
    "            for b, (X_test, y_test) in enumerate(test_loader):\n",
    "                b += 1\n",
    "                y_val = cnn(X_test)\n",
    "                \n",
    "                predicted = torch.max(y_val.data, 1)[1] \n",
    "                tst_corr += (predicted == y_test).sum()\n",
    "                \n",
    "                if b%200 == 0:\n",
    "                    accuracy2.append(tst_corr.item()*100/(10*b))\n",
    "                    print(f'epoch: {i:2} | test_batch: {b:4} [{10*b:6}/10000] | test_loss: {loss.item():10.8f} | test_accuracy: {accuracy2[-1]:7.3f}%')\n",
    "            \n",
    "        loss = criterion(y_val, y_test)\n",
    "        test_losses.append(loss)\n",
    "        test_correct.append(tst_corr)\n",
    "        \n",
    "    print(f'\\nDuration: {time.time() - start_time:.0f} seconds')"
   ]
  },
  {
   "cell_type": "code",
   "execution_count": 652,
   "id": "57dd57af",
   "metadata": {
    "scrolled": true
   },
   "outputs": [
    {
     "name": "stdout",
     "output_type": "stream",
     "text": [
      "epoch:  0 | train_batch: 1200 [ 12000/60000] | train_loss: 0.09464751 | train_accuracy:  85.333%\n",
      "epoch:  0 | train_batch: 2400 [ 24000/60000] | train_loss: 0.06591819 | train_accuracy:  90.213%\n",
      "epoch:  0 | train_batch: 3600 [ 36000/60000] | train_loss: 0.03400535 | train_accuracy:  92.317%\n",
      "epoch:  0 | train_batch: 4800 [ 48000/60000] | train_loss: 0.00422920 | train_accuracy:  93.427%\n",
      "epoch:  0 | train_batch: 6000 [ 60000/60000] | train_loss: 0.05711427 | train_accuracy:  94.240%\n",
      "epoch:  0 | test_batch:  200 [  2000/10000] | test_loss: 0.05711427 | test_accuracy:  97.700%\n",
      "epoch:  0 | test_batch:  400 [  4000/10000] | test_loss: 0.05711427 | test_accuracy:  97.600%\n",
      "epoch:  0 | test_batch:  600 [  6000/10000] | test_loss: 0.05711427 | test_accuracy:  97.767%\n",
      "epoch:  0 | test_batch:  800 [  8000/10000] | test_loss: 0.05711427 | test_accuracy:  97.938%\n",
      "epoch:  0 | test_batch: 1000 [ 10000/10000] | test_loss: 0.05711427 | test_accuracy:  98.090%\n",
      "epoch:  1 | train_batch: 1200 [ 12000/60000] | train_loss: 0.00327799 | train_accuracy:  97.717%\n",
      "epoch:  1 | train_batch: 2400 [ 24000/60000] | train_loss: 0.00882732 | train_accuracy:  97.808%\n",
      "epoch:  1 | train_batch: 3600 [ 36000/60000] | train_loss: 0.05523841 | train_accuracy:  97.722%\n",
      "epoch:  1 | train_batch: 4800 [ 48000/60000] | train_loss: 0.16580287 | train_accuracy:  97.777%\n",
      "epoch:  1 | train_batch: 6000 [ 60000/60000] | train_loss: 0.32254395 | train_accuracy:  97.855%\n",
      "epoch:  1 | test_batch:  200 [  2000/10000] | test_loss: 0.32254395 | test_accuracy:  97.300%\n",
      "epoch:  1 | test_batch:  400 [  4000/10000] | test_loss: 0.32254395 | test_accuracy:  97.350%\n",
      "epoch:  1 | test_batch:  600 [  6000/10000] | test_loss: 0.32254395 | test_accuracy:  97.467%\n",
      "epoch:  1 | test_batch:  800 [  8000/10000] | test_loss: 0.32254395 | test_accuracy:  97.825%\n",
      "epoch:  1 | test_batch: 1000 [ 10000/10000] | test_loss: 0.32254395 | test_accuracy:  98.020%\n",
      "epoch:  2 | train_batch: 1200 [ 12000/60000] | train_loss: 0.01637242 | train_accuracy:  98.383%\n",
      "epoch:  2 | train_batch: 2400 [ 24000/60000] | train_loss: 0.00596155 | train_accuracy:  98.567%\n",
      "epoch:  2 | train_batch: 3600 [ 36000/60000] | train_loss: 0.00374314 | train_accuracy:  98.528%\n",
      "epoch:  2 | train_batch: 4800 [ 48000/60000] | train_loss: 0.00020876 | train_accuracy:  98.500%\n",
      "epoch:  2 | train_batch: 6000 [ 60000/60000] | train_loss: 0.00023323 | train_accuracy:  98.543%\n",
      "epoch:  2 | test_batch:  200 [  2000/10000] | test_loss: 0.00023323 | test_accuracy:  96.950%\n",
      "epoch:  2 | test_batch:  400 [  4000/10000] | test_loss: 0.00023323 | test_accuracy:  97.175%\n",
      "epoch:  2 | test_batch:  600 [  6000/10000] | test_loss: 0.00023323 | test_accuracy:  97.583%\n",
      "epoch:  2 | test_batch:  800 [  8000/10000] | test_loss: 0.00023323 | test_accuracy:  98.013%\n",
      "epoch:  2 | test_batch: 1000 [ 10000/10000] | test_loss: 0.00023323 | test_accuracy:  98.220%\n",
      "epoch:  3 | train_batch: 1200 [ 12000/60000] | train_loss: 0.02150580 | train_accuracy:  98.767%\n",
      "epoch:  3 | train_batch: 2400 [ 24000/60000] | train_loss: 0.06198526 | train_accuracy:  98.783%\n",
      "epoch:  3 | train_batch: 3600 [ 36000/60000] | train_loss: 0.24813738 | train_accuracy:  98.856%\n",
      "epoch:  3 | train_batch: 4800 [ 48000/60000] | train_loss: 0.01204209 | train_accuracy:  98.787%\n",
      "epoch:  3 | train_batch: 6000 [ 60000/60000] | train_loss: 0.00005915 | train_accuracy:  98.768%\n",
      "epoch:  3 | test_batch:  200 [  2000/10000] | test_loss: 0.00005915 | test_accuracy:  97.700%\n",
      "epoch:  3 | test_batch:  400 [  4000/10000] | test_loss: 0.00005915 | test_accuracy:  97.975%\n",
      "epoch:  3 | test_batch:  600 [  6000/10000] | test_loss: 0.00005915 | test_accuracy:  98.267%\n",
      "epoch:  3 | test_batch:  800 [  8000/10000] | test_loss: 0.00005915 | test_accuracy:  98.562%\n",
      "epoch:  3 | test_batch: 1000 [ 10000/10000] | test_loss: 0.00005915 | test_accuracy:  98.670%\n",
      "epoch:  4 | train_batch: 1200 [ 12000/60000] | train_loss: 0.26486456 | train_accuracy:  99.075%\n",
      "epoch:  4 | train_batch: 2400 [ 24000/60000] | train_loss: 0.00012762 | train_accuracy:  99.021%\n",
      "epoch:  4 | train_batch: 3600 [ 36000/60000] | train_loss: 0.00133377 | train_accuracy:  99.011%\n",
      "epoch:  4 | train_batch: 4800 [ 48000/60000] | train_loss: 0.00436599 | train_accuracy:  99.052%\n",
      "epoch:  4 | train_batch: 6000 [ 60000/60000] | train_loss: 0.00021027 | train_accuracy:  99.018%\n",
      "epoch:  4 | test_batch:  200 [  2000/10000] | test_loss: 0.00021027 | test_accuracy:  97.950%\n",
      "epoch:  4 | test_batch:  400 [  4000/10000] | test_loss: 0.00021027 | test_accuracy:  98.075%\n",
      "epoch:  4 | test_batch:  600 [  6000/10000] | test_loss: 0.00021027 | test_accuracy:  98.417%\n",
      "epoch:  4 | test_batch:  800 [  8000/10000] | test_loss: 0.00021027 | test_accuracy:  98.688%\n",
      "epoch:  4 | test_batch: 1000 [ 10000/10000] | test_loss: 0.00021027 | test_accuracy:  98.820%\n",
      "\n",
      "Duration: 250 seconds\n"
     ]
    }
   ],
   "source": [
    "torch.manual_seed(42)\n",
    "cnn = CNN()\n",
    "experiment_cnn(cnn, 5, 0.001)"
   ]
  },
  {
   "cell_type": "code",
   "execution_count": 653,
   "id": "136adc6c",
   "metadata": {},
   "outputs": [
    {
     "data": {
      "text/plain": [
       "[<matplotlib.lines.Line2D at 0x7f2c5c2b52e0>]"
      ]
     },
     "execution_count": 653,
     "metadata": {},
     "output_type": "execute_result"
    },
    {
     "data": {
      "image/png": "[encoded data removed]",
      "text/plain": [
       "<Figure size 432x288 with 1 Axes>"
      ]
     },
     "metadata": {
      "needs_background": "light"
     },
     "output_type": "display_data"
    }
   ],
   "source": [
    "plt.plot(np.array(accuracy2), label='Accuracy')"
   ]
  },
  {
   "cell_type": "markdown",
   "id": "db2916d2",
   "metadata": {},
   "source": [
    "## From Scratch Part\n",
    "I won't be using the downloaded dataset, instead I will store them in a numpy array in accordance with the first assignment."
   ]
  },
  {
   "cell_type": "code",
   "execution_count": 654,
   "id": "474d4a5f",
   "metadata": {},
   "outputs": [
    {
     "name": "stdout",
     "output_type": "stream",
     "text": [
      "[✓] All files were downloaded!\n"
     ]
    }
   ],
   "source": [
    "import os\n",
    "import urllib\n",
    "\n",
    "# Define where you want your files to be downloaded\n",
    "path_to_store = \"./MNIST/\"\n",
    "# Create a directory there\n",
    "os.makedirs(path_to_store)\n",
    "\n",
    "# Store the URLs of the 4 files from the MNIST website\n",
    "urls = ['http://yann.lecun.com/exdb/mnist/train-images-idx3-ubyte.gz',\n",
    "        'http://yann.lecun.com/exdb/mnist/train-labels-idx1-ubyte.gz',\n",
    "        'http://yann.lecun.com/exdb/mnist/t10k-images-idx3-ubyte.gz',\n",
    "        'http://yann.lecun.com/exdb/mnist/t10k-labels-idx1-ubyte.gz']\n",
    "\n",
    "for url in urls:\n",
    "    \n",
    "    name_of_file = url.split('/')[-1]\n",
    "    urllib.request.urlretrieve(url, path_to_store + name_of_file)\n",
    "\n",
    "print(f\"[\\u2713] All files were downloaded!\")"
   ]
  },
  {
   "cell_type": "code",
   "execution_count": 655,
   "id": "172a9197",
   "metadata": {},
   "outputs": [],
   "source": [
    "import gzip\n",
    "import shutil\n",
    "\n",
    "files = os.listdir(path_to_store)\n",
    "\n",
    "for file in files:\n",
    "    if file.endswith('gz'):\n",
    "        with gzip.open(path_to_store + file, 'rb')  as f_in:\n",
    "            with open(path_to_store + file.split('.')[0], 'wb') as f_out:\n",
    "                shutil.copyfileobj(f_in, f_out)\n",
    "\n",
    "for file in files:\n",
    "    os.remove(path_to_store + file)"
   ]
  },
  {
   "cell_type": "code",
   "execution_count": 656,
   "id": "5b6ab22a",
   "metadata": {},
   "outputs": [],
   "source": [
    "def get_int(b):\n",
    "    return int(codecs.encode(b, 'hex'), 16)"
   ]
  },
  {
   "cell_type": "code",
   "execution_count": 657,
   "id": "f8bb9c82",
   "metadata": {},
   "outputs": [],
   "source": [
    "import codecs\n",
    "import numpy as np\n",
    "\n",
    "files = os.listdir(path_to_store)\n",
    "\n",
    "for file in files:\n",
    "    if file.endswith('ubyte'):\n",
    "        with open(path_to_store + file, 'rb') as f:\n",
    "            data = f.read()\n",
    "            magic_number = get_int(data[:4])\n",
    "            length = get_int(data[4:8])\n",
    "            if (magic_number == 2051):\n",
    "                images = np.frombuffer(data, dtype= np.uint8, offset = 16).reshape(length, 784)\n",
    "                if(length == 60000):\n",
    "                    train_images = images/255 # normalization\n",
    "                if(length == 10000):\n",
    "                    test_images = images/255 # normalization\n",
    "            elif (magic_number == 2049):\n",
    "                labels = np.frombuffer(data, dtype= np.uint8, offset = 8).reshape(length)\n",
    "                if(length == 60000):\n",
    "                    train_labels = labels\n",
    "                if(length == 10000):\n",
    "                    test_labels = labels"
   ]
  },
  {
   "cell_type": "code",
   "execution_count": 658,
   "id": "dc948a43",
   "metadata": {},
   "outputs": [
    {
     "data": {
      "text/plain": [
       "((60000, 784), (60000,))"
      ]
     },
     "execution_count": 658,
     "metadata": {},
     "output_type": "execute_result"
    }
   ],
   "source": [
    "train_images.shape, train_labels.shape"
   ]
  },
  {
   "cell_type": "code",
   "execution_count": 659,
   "id": "6c815109",
   "metadata": {},
   "outputs": [
    {
     "data": {
      "text/plain": [
       "((60000, 784), (60000, 10))"
      ]
     },
     "execution_count": 659,
     "metadata": {},
     "output_type": "execute_result"
    }
   ],
   "source": [
    "onehot = np.zeros((60000,10))\n",
    "for i in range(60000):\n",
    "    onehot[i][train_labels[i]] = 1\n",
    "train_labels = np.copy(onehot)\n",
    "train_images.shape, train_labels.shape"
   ]
  },
  {
   "cell_type": "code",
   "execution_count": 660,
   "id": "a6372a58",
   "metadata": {},
   "outputs": [
    {
     "data": {
      "text/plain": [
       "((10000, 784), (10000,))"
      ]
     },
     "execution_count": 660,
     "metadata": {},
     "output_type": "execute_result"
    }
   ],
   "source": [
    "test_images.shape, test_labels.shape"
   ]
  },
  {
   "cell_type": "code",
   "execution_count": 661,
   "id": "f3d401fb",
   "metadata": {},
   "outputs": [
    {
     "data": {
      "text/plain": [
       "((10000, 784), (10000, 10))"
      ]
     },
     "execution_count": 661,
     "metadata": {},
     "output_type": "execute_result"
    }
   ],
   "source": [
    "onehot = np.zeros((10000,10))\n",
    "for i in range(10000):\n",
    "    onehot[i][test_labels[i]] = 1\n",
    "test_labels = np.copy(onehot)\n",
    "test_images.shape, test_labels.shape"
   ]
  },
  {
   "cell_type": "code",
   "execution_count": 662,
   "id": "4840927d",
   "metadata": {},
   "outputs": [],
   "source": [
    "train_data = list(zip(train_images, train_labels))\n",
    "test_data = list(zip(test_images, test_labels))"
   ]
  },
  {
   "cell_type": "markdown",
   "id": "3bbc0042",
   "metadata": {},
   "source": [
    "### Network description:\n",
    "#### biases\n",
    "For every layer in the network there is an array of biases. Suppose the hidden layer has 3 --> 4 --> 5 neurons per layer. Then the matrix of biases, will have 3 columns. The first column will have 3 rows, the second 4 and the third will have 5. The input layer doesn't have biases.\n",
    "#### weights\n",
    "To understand how I store the weights you have to think the following. First, in which layer is the neuron in? Let's say it is the ith neuron of the 4th layer. Now, we are interested in which the weight connected this neuron and the jth neuron of the previous layer. This is the i,j entry in the matrix weights[3]\n",
    "\n",
    "#### There are four main equations\n",
    "* $\\delta^L = \\nabla_aC\\odot\\sigma'(z^L)$\n",
    "\n",
    "which gives as the error of the last layer\n",
    "\n",
    "* $\\delta^l = ((w^{l+1})^T \\delta^{l+1}) \\odot \\sigma'(z^l)$\n",
    "\n",
    "the error of the left layer knowing the error of the right layer\n",
    "\n",
    "* $\\frac{\\partial C}{\\partial b^l_j} = \\delta^l_j$\n",
    "\n",
    "the rate of change of the cost function with respect to the jth bias of the l layer\n",
    "\n",
    "* $\\frac{\\partial C}{\\partial w^l_{jk}} = a^{l-1}_k \\delta^l_j$\n",
    "\n",
    "the rate of change of the cost function with respect to the weight connecting the jth neuron in the l layer with the kth neuron in the l-1 layer\n",
    "\n",
    "where σ() denotes the sigmoid function and C is the quadratic cost.\n",
    "\n",
    "We require those four equations because we are going to update the weights and biases using the following equations:\n",
    "\n",
    "* $w^l \\rightarrow w^l-\\frac{\\eta}{m} \\sum_x \\delta^{x,l} (a^{x,l-1})^T$\n",
    "\n",
    "\n",
    "* $b^l \\rightarrow b^l-\\frac{\\eta}{m}\\sum_x \\delta^{x,l}$"
   ]
  },
  {
   "cell_type": "code",
   "execution_count": 663,
   "id": "9f44aaa3",
   "metadata": {},
   "outputs": [],
   "source": [
    "def sigmoid(z):\n",
    "    return 1.0/(1.0+np.exp(-z))\n",
    "\n",
    "def sigmoid_prime(z):\n",
    "    return sigmoid(z)*(1-sigmoid(z))"
   ]
  },
  {
   "cell_type": "code",
   "execution_count": 664,
   "id": "6914f401",
   "metadata": {},
   "outputs": [],
   "source": [
    "accuracy3 = []\n",
    "wrong_guesses = []\n",
    "\n",
    "class Network:\n",
    "    \n",
    "    def __init__(self, sizes):\n",
    "        # Store the number of layers\n",
    "        self.num_layers = len(sizes)\n",
    "        # Store the neurons per layer array named \"sizes\"\n",
    "        self.sizes = sizes\n",
    "        # Each neuron in each layer has 1 bias except the neurons\n",
    "        # in the input layer\n",
    "        self.biases = [np.random.randn(y, 1) for y in sizes[1:]]\n",
    "        # Each neuron in each layer has n weights where n is the\n",
    "        # number of neurons in the previous layer\n",
    "        self.weights = [np.random.randn(y, x) for x, y in zip(sizes[:-1], sizes[1:])]\n",
    "    \n",
    "    def feed_input_forward(self, a):\n",
    "        # Take input of 784x1 and by going through each layer,\n",
    "        # find the 10x1 output\n",
    "        # This simply computes a=s(z) where z = w.a + b\n",
    "        for b, w in zip(self.biases, self.weights):\n",
    "            a = sigmoid(np.dot(w, a) + b)\n",
    "        return a\n",
    "\n",
    "    def apply_stochastic_gradient_descent(self, epochs, mini_batch_size, lr):\n",
    "        # For every epoch split the training data into minibatches\n",
    "        for epoch in range(epochs):\n",
    "            random.shuffle(train_data)\n",
    "            mini_batches = [train_data[k:k+mini_batch_size] for k in range(0, len(train_data), mini_batch_size)]\n",
    "            # For each mini batch take a step, a.k.a update weights and biases\n",
    "            for mini_batch in mini_batches:\n",
    "                self.update_mini_batch(mini_batch, lr)\n",
    "            percentage = (self.evaluate(test_data)/(len(test_data))*100)\n",
    "            accuracy3.append(percentage)\n",
    "            print(f'Epoch {epoch}: | accuracy : {accuracy3[-1]}%')\n",
    "            \n",
    "    def update_mini_batch(self, mini_batch, lr):\n",
    "        nabla_b = [np.zeros(b.shape) for b in self.biases]\n",
    "        nabla_w = [np.zeros(w.shape) for w in self.weights]\n",
    "        for x, y in mini_batch:\n",
    "            delta_nabla_b, delta_nabla_w = self.backprop(x.reshape(784,1), y.reshape(10,1))\n",
    "            nabla_b = [nb+dnb for nb, dnb in zip(nabla_b, delta_nabla_b)]\n",
    "            nabla_w = [nw+dnw for nw, dnw in zip(nabla_w, delta_nabla_w)]\n",
    "        self.weights = [w-(lr/len(mini_batch))*nw\n",
    "                        for w, nw in zip(self.weights, nabla_w)]\n",
    "        self.biases = [b-(lr/len(mini_batch))*nb\n",
    "                       for b, nb in zip(self.biases, nabla_b)]\n",
    "    \"\"\"\n",
    "    Returns the partial derivatives of the cost function with respect\n",
    "    to the weights, and the biases OF A SINGLE TRAINING IMAGE\n",
    "    \"\"\"\n",
    "    def backprop(self, x, y):\n",
    "        nabla_b = [np.zeros(b.shape) for b in self.biases]\n",
    "        nabla_w = [np.zeros(w.shape) for w in self.weights]\n",
    "        activation = x\n",
    "        # First, store the first activation, which is the input\n",
    "        activations = [x]\n",
    "        # The weighted input array is empty\n",
    "        zs = []\n",
    "        # Find the weighted input vector for every layer and add it\n",
    "        # in the array\n",
    "        # Then apply the sigmoid and add it to the activations\n",
    "        for b, w in zip(self.biases, self.weights):\n",
    "            z = np.dot(w, activation)+b\n",
    "            zs.append(z)\n",
    "            activation = sigmoid(z)\n",
    "            activations.append(activation)\n",
    "        # compute d^L which is the error for the LAST layer (EQ. 1)\n",
    "        delta = self.cost_derivative(activations[-1], y) * sigmoid_prime(zs[-1])\n",
    "        # Compute rate of change of cost function with respect to the biases\n",
    "        # of the neurons in the last layer using EQ. 3\n",
    "        nabla_b[-1] = delta\n",
    "        # Compute rate of change of cost function with respect to the weights\n",
    "        # of the neurons in the last layer using EQ. 4\n",
    "        nabla_w[-1] = np.dot(delta, activations[-2].transpose())\n",
    "        \n",
    "        for l in range(2, self.num_layers):\n",
    "            # Start from the second to last layer\n",
    "            # compute the prime in the weighted input of the second to last\n",
    "            # layer\n",
    "            z = zs[-l]\n",
    "            sp = sigmoid_prime(z)\n",
    "            # delta --> the error of the previous layer\n",
    "            delta = np.dot(self.weights[-l+1].transpose(), delta) * sp\n",
    "            nabla_b[-l] = delta\n",
    "            nabla_w[-l] = np.dot(delta, activations[-l-1].transpose())\n",
    "        return (nabla_b, nabla_w)\n",
    "        \n",
    "    def evaluate(self, test_data):\n",
    "        count = 0\n",
    "        index = 0\n",
    "        for x, y in test_data:\n",
    "            neuron_prediction = self.feed_input_forward(x.reshape(784,1))\n",
    "            desired_output = y.reshape(10,1)\n",
    "            if np.argmax(neuron_prediction) == np.argmax(desired_output):\n",
    "                count += 1\n",
    "            else:\n",
    "                wrong_guesses.append(test_data[index][0])\n",
    "            index += 1\n",
    "        return count\n",
    "\n",
    "    def cost_derivative(self, output_activations, y):\n",
    "        return (output_activations.reshape(10,1)-y.reshape(10,1))"
   ]
  },
  {
   "cell_type": "code",
   "execution_count": 665,
   "id": "f153fc6b",
   "metadata": {},
   "outputs": [
    {
     "name": "stdout",
     "output_type": "stream",
     "text": [
      "Epoch 0: | accuracy : 78.48%\n",
      "Epoch 1: | accuracy : 86.32%\n",
      "Epoch 2: | accuracy : 88.32%\n",
      "Epoch 3: | accuracy : 89.52%\n",
      "Epoch 4: | accuracy : 90.14%\n",
      "Epoch 5: | accuracy : 90.8%\n",
      "Epoch 6: | accuracy : 91.33%\n",
      "Epoch 7: | accuracy : 91.57%\n",
      "Epoch 8: | accuracy : 91.81%\n",
      "Epoch 9: | accuracy : 91.89%\n",
      "Epoch 10: | accuracy : 92.12%\n",
      "Epoch 11: | accuracy : 92.46%\n",
      "Epoch 12: | accuracy : 92.33%\n",
      "Epoch 13: | accuracy : 92.61%\n",
      "Epoch 14: | accuracy : 92.58%\n",
      "Epoch 15: | accuracy : 92.77%\n",
      "Epoch 16: | accuracy : 92.84%\n",
      "Epoch 17: | accuracy : 93.02%\n",
      "Epoch 18: | accuracy : 93.12%\n",
      "Epoch 19: | accuracy : 93.15%\n",
      "Time required : 3.547578243414561 minutes.\n"
     ]
    }
   ],
   "source": [
    "net = Network([784,30,10])\n",
    "start = time.time()\n",
    "net.apply_stochastic_gradient_descent(20, 100, 3.5)\n",
    "end = time.time()\n",
    "\n",
    "print(f'Time required : {(end-start)/60} minutes.')"
   ]
  },
  {
   "cell_type": "markdown",
   "id": "5a3167d7",
   "metadata": {},
   "source": [
    "Let's see which images the network got wrong!"
   ]
  },
  {
   "cell_type": "code",
   "execution_count": 666,
   "id": "63022bda",
   "metadata": {},
   "outputs": [
    {
     "data": {
      "text/plain": [
       "<matplotlib.image.AxesImage at 0x7f2c385fe160>"
      ]
     },
     "execution_count": 666,
     "metadata": {},
     "output_type": "execute_result"
    },
    {
     "data": {
      "image/png": "[encoded data removed]",
      "text/plain": [
       "<Figure size 432x288 with 1 Axes>"
      ]
     },
     "metadata": {
      "needs_background": "light"
     },
     "output_type": "display_data"
    }
   ],
   "source": [
    "plt.imshow(wrong_guesses[-1].reshape(28,28))"
   ]
  },
  {
   "cell_type": "code",
   "execution_count": 667,
   "id": "e97d323d",
   "metadata": {},
   "outputs": [
    {
     "data": {
      "text/plain": [
       "<matplotlib.image.AxesImage at 0x7f2c654bf880>"
      ]
     },
     "execution_count": 667,
     "metadata": {},
     "output_type": "execute_result"
    },
    {
     "data": {
      "image/png": "[encoded data removed]",
      "text/plain": [
       "<Figure size 432x288 with 1 Axes>"
      ]
     },
     "metadata": {
      "needs_background": "light"
     },
     "output_type": "display_data"
    }
   ],
   "source": [
    "plt.imshow(wrong_guesses[-3].reshape(28,28))"
   ]
  },
  {
   "cell_type": "code",
   "execution_count": 668,
   "id": "0d0781e1",
   "metadata": {
    "scrolled": true
   },
   "outputs": [
    {
     "data": {
      "text/plain": [
       "<matplotlib.image.AxesImage at 0x7f2c5c3be580>"
      ]
     },
     "execution_count": 668,
     "metadata": {},
     "output_type": "execute_result"
    },
    {
     "data": {
      "image/png": "[encoded data removed]",
      "text/plain": [
       "<Figure size 432x288 with 1 Axes>"
      ]
     },
     "metadata": {
      "needs_background": "light"
     },
     "output_type": "display_data"
    }
   ],
   "source": [
    "plt.imshow(wrong_guesses[-10].reshape(28,28))"
   ]
  },
  {
   "cell_type": "code",
   "execution_count": 669,
   "id": "f23761b4",
   "metadata": {},
   "outputs": [
    {
     "data": {
      "text/plain": [
       "<matplotlib.legend.Legend at 0x7f2c660f1ac0>"
      ]
     },
     "execution_count": 669,
     "metadata": {},
     "output_type": "execute_result"
    },
    {
     "data": {
      "image/png": "[encoded data removed]",
      "text/plain": [
       "<Figure size 432x288 with 1 Axes>"
      ]
     },
     "metadata": {
      "needs_background": "light"
     },
     "output_type": "display_data"
    }
   ],
   "source": [
    "plt.plot(accuracy1, label=\"Pytorch's ANN\")\n",
    "plt.plot(accuracy2, label=\"Pytorch's CNN\")\n",
    "plt.plot(accuracy3, label=\"Scratch ANN\")\n",
    "plt.legend()"
   ]
  }
 ],
 "metadata": {
  "kernelspec": {
   "display_name": "Python 3 (ipykernel)",
   "language": "python",
   "name": "python3"
  },
  "language_info": {
   "codemirror_mode": {
    "name": "ipython",
    "version": 3
   },
   "file_extension": ".py",
   "mimetype": "text/x-python",
   "name": "python",
   "nbconvert_exporter": "python",
   "pygments_lexer": "ipython3",
   "version": "3.9.7"
  }
 },
 "nbformat": 4,
 "nbformat_minor": 5
}
